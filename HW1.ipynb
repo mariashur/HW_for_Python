{
 "cells": [
  {
   "cell_type": "code",
   "execution_count": 31,
   "metadata": {
    "scrolled": false
   },
   "outputs": [
    {
     "name": "stdout",
     "output_type": "stream",
     "text": [
      "Сколько вы хотите пингвинцев?\n",
      "6\n",
      "   _~_        _~_        _~_        _~_        _~_        _~_     \n",
      "  (o o)      (o o)      (o o)      (o o)      (o o)      (o o)    \n",
      " /  V  \\    /  V  \\    /  V  \\    /  V  \\    /  V  \\    /  V  \\   \n",
      "/(  _  )\\  /(  _  )\\  /(  _  )\\  /(  _  )\\  /(  _  )\\  /(  _  )\\  \n",
      "  ^^ ^^      ^^ ^^      ^^ ^^      ^^ ^^      ^^ ^^      ^^ ^^    \n"
     ]
    }
   ],
   "source": [
    "# Спрашиваю, сколько нужно напечатать пингвинов\n",
    "Penguins = input(\"Сколько вы хотите пингвинцев?\\n\")\n",
    "Penguin_number = int(Penguins)\n",
    "if Penguin_number < 1:\n",
    "    print(\"Маловато пингвинцев\")\n",
    "elif Penguin_number > 9:\n",
    "    print(\"Многовато пингвинцев\")\n",
    "else:\n",
    "    # Беру кусок пингвина\n",
    "    peng_part1 = \"   _~_     \"\n",
    "    # Умножаю его на количество пингвинов\n",
    "    draw_peng_part = peng_part1 * Penguin_number\n",
    "    # Рисую\n",
    "    print(draw_peng_part)\n",
    "    # Дальше каждые три строки аналогично\n",
    "    peng_part2 = \"  (o o)    \"\n",
    "    draw_peng_part = peng_part2 * Penguin_number\n",
    "    print(draw_peng_part)\n",
    "    #\n",
    "    peng_part3 = \" /  V  \\   \"\n",
    "    draw_peng_part = peng_part3 * Penguin_number\n",
    "    print(draw_peng_part)\n",
    "    #\n",
    "    peng_part4 = \"/(  _  )\\  \"\n",
    "    draw_peng_part = peng_part4 * Penguin_number\n",
    "    print(draw_peng_part)\n",
    "    #\n",
    "    peng_part5 = \"  ^^ ^^    \"\n",
    "    draw_peng_part = peng_part5 * Penguin_number\n",
    "    print(draw_peng_part)\n",
    "       \n"
   ]
  },
  {
   "cell_type": "code",
   "execution_count": null,
   "metadata": {},
   "outputs": [],
   "source": []
  }
 ],
 "metadata": {
  "kernelspec": {
   "display_name": "Python 3",
   "language": "python",
   "name": "python3"
  },
  "language_info": {
   "codemirror_mode": {
    "name": "ipython",
    "version": 3
   },
   "file_extension": ".py",
   "mimetype": "text/x-python",
   "name": "python",
   "nbconvert_exporter": "python",
   "pygments_lexer": "ipython3",
   "version": "3.6.4"
  }
 },
 "nbformat": 4,
 "nbformat_minor": 2
}
